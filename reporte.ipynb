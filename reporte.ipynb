{
 "cells": [
  {
   "cell_type": "markdown",
   "metadata": {},
   "source": [
    "# REPORTE DE CALIDAD PROYECTO INDIVIDUAL"
   ]
  },
  {
   "cell_type": "markdown",
   "metadata": {},
   "source": [
    "### Primeros pasos: Importando librerías y creación de funciones para el análisis:"
   ]
  },
  {
   "cell_type": "code",
   "execution_count": 42,
   "metadata": {},
   "outputs": [],
   "source": [
    "#SE IMPORTAN LAS LIBRERÍAS QUE SERÁN USADAS A LOS LARGO DEL REPORTE:\n",
    "import pandas as pd\n",
    "import matplotlib.pyplot as plt\n",
    "import seaborn as sns"
   ]
  },
  {
   "cell_type": "markdown",
   "metadata": {},
   "source": [
    "##### Función para detectar outliers:"
   ]
  },
  {
   "cell_type": "code",
   "execution_count": 21,
   "metadata": {},
   "outputs": [],
   "source": [
    "def detectar_outliers(df:pd.DataFrame,columna:str,tecnica='cajas') -> pd.DataFrame:\n",
    "\n",
    "    #Detección por medio de Diagrama de Cajas:\n",
    "    if tecnica == 'cajas':\n",
    "        q1 = df[columna].describe().loc['25%']\n",
    "        q3 = df[columna].describe().loc['75%']\n",
    "        rango_IC = q3 - q1\n",
    "        minimo = q1 - ((1.5) * (rango_IC))\n",
    "        maximo = q3 + ((1.5) * (rango_IC))\n",
    "\n",
    "\n",
    "    #Detección de outliers por medio de las 3 sigmas:\n",
    "    elif tecnica == 'sigmas':\n",
    "        promedio = df[columna].mean()\n",
    "        stddev = df[columna].std()\n",
    "        maximo = promedio + (3 * stddev)\n",
    "        minimo = promedio - (3 * stddev)\n",
    "\n",
    "\n",
    "    df['outlier'][(df[columna] > maximo) | (df[columna] < minimo)] = 0\n",
    "    \n",
    "    return df"
   ]
  },
  {
   "cell_type": "markdown",
   "metadata": {},
   "source": [
    "##### Función para determinar y graficar la calidad de los datos:"
   ]
  },
  {
   "cell_type": "code",
   "execution_count": 113,
   "metadata": {},
   "outputs": [],
   "source": [
    "def determinar_calidad(df:pd.DataFrame,columna:str): \n",
    "    #Outliers:\n",
    "    df_outlier = df.copy()\n",
    "    df_outlier['outlier'] = 1\n",
    "    df_outlier = detectar_outliers(df_outlier,columna)\n",
    "\n",
    "    #Datos generales:\n",
    "    total = df.shape[0]\n",
    "    no_nulos = df[columna].notnull().sum()\n",
    "    nulos = total - no_nulos\n",
    "    outliers = df_outlier[columna][df_outlier.outlier == 0].count()\n",
    "    sin_errores = (total - nulos) - outliers \n",
    "\n",
    "    #Porcentaje de datos:\n",
    "    porcentaje_nulos = round((nulos * 100)/total,2)\n",
    "    porcentaje_outliers = round((outliers * 100)/total,2)\n",
    "    porcentaje_sin_errores = round((sin_errores * 100)/total,2)\n",
    "\n",
    "    #Datos para el grafico:\n",
    "    titulo = f\"Calidad_{columna}\"\n",
    "    estados = ['Outliers','Sin Errores','Valores Nulos'] \n",
    "    porcentajes = [porcentaje_outliers,porcentaje_sin_errores,porcentaje_nulos] \n",
    "    df = pd.DataFrame({\"Estado\":estados, \n",
    "                       \"Porcentaje\":porcentajes}) \n",
    "\n",
    "    #Grafico:\n",
    "    plot = sns.barplot(x='Estado', y=\"Porcentaje\", data=df)\n",
    "    plot.set_title(titulo)\n",
    "    \n",
    "\n",
    "    for p in plot.patches:\n",
    "        h, w, x = p.get_height(), p.get_width(), p.get_x()\n",
    "        xy = (p.get_x() + p.get_width() / 2, p.get_height())\n",
    "        plot.annotate(text=f\"{h}%\", xy=xy, ha='center', va='baseline',\n",
    "                      fontsize = 11,color = 'black', xytext = (0,1),\n",
    "                      textcoords = 'offset pixels')\n",
    "    \n",
    "\n",
    "    plt.show()\n",
    "\n",
    "    "
   ]
  },
  {
   "cell_type": "markdown",
   "metadata": {},
   "source": [
    "##### Función para determinar el porcentaje de valores nulos de una columna:"
   ]
  },
  {
   "cell_type": "code",
   "execution_count": 123,
   "metadata": {},
   "outputs": [],
   "source": [
    "def porcentaje_de_valores_nulos(df:pd.DataFrame,columna:str) -> str:\n",
    "    total =df.shape[0]\n",
    "    no_nulos = df[columna].notnull().sum()\n",
    "    nulos = total - no_nulos\n",
    "    porcentaje_nulos = round((nulos * 100)/total,2)\n",
    "\n",
    "    texto = f\"Porcentaje de valores nulos para la columna '{columna}': {porcentaje_nulos}%\"\n",
    "    return texto"
   ]
  },
  {
   "cell_type": "markdown",
   "metadata": {},
   "source": [
    "# **Tabla:** Venta\n",
    "### Diccionario\n",
    "| | Columna Original | Columna Normalizada | Tipo de Dato Original | Descripción |\n",
    "|:-------------------:|---|---|---|---|\n",
    "| 0 | IdVenta | IdVenta | int64 | Clave única que identifica la venta |\n",
    "| 1 | Fecha | Fecha | Object | Fecha de la venta realizada |\n",
    "| 2 | Fecha_Entrega | Fecha_Entrega | Object | Fecha de entrega de la venta |\n",
    "| 3 | IdCanal | IdCanal | int64 | Clave única que identifica el canal de venta |\n",
    "| 4 | IdCliente | IdCliente | int64 | Clave única que identifica al cliente |\n",
    "| 5 | IdSucursal | IdSucursal | int64 | Clave única que identifica a la sucursal |\n",
    "| 6 | IdEmpleado | IdEmpleado | int64 | Clave única que identifica al empleado |\n",
    "| 7 | IdProducto | IdProducto | int64 | Clave única que identifica el producto de la venta|\n",
    "| 8 | Precio | Precio | float64 | Precio unitario del producto vendido |\n",
    "| 9 | Cantidad | Cantidad | float64 | Cantidad de producto de la venta realizada |"
   ]
  },
  {
   "cell_type": "code",
   "execution_count": 127,
   "metadata": {},
   "outputs": [
    {
     "name": "stdout",
     "output_type": "stream",
     "text": [
      "<class 'pandas.core.frame.DataFrame'>\n",
      "RangeIndex: 46180 entries, 0 to 46179\n",
      "Data columns (total 10 columns):\n",
      " #   Column         Non-Null Count  Dtype  \n",
      "---  ------         --------------  -----  \n",
      " 0   IdVenta        46180 non-null  int64  \n",
      " 1   Fecha          46180 non-null  object \n",
      " 2   Fecha_Entrega  46180 non-null  object \n",
      " 3   IdCanal        46180 non-null  int64  \n",
      " 4   IdCliente      46180 non-null  int64  \n",
      " 5   IdSucursal     46180 non-null  int64  \n",
      " 6   IdEmpleado     46180 non-null  int64  \n",
      " 7   IdProducto     46180 non-null  int64  \n",
      " 8   Precio         45260 non-null  float64\n",
      " 9   Cantidad       45296 non-null  float64\n",
      "dtypes: float64(2), int64(6), object(2)\n",
      "memory usage: 3.5+ MB\n"
     ]
    }
   ],
   "source": [
    "df_ventas = pd.read_csv('Datasets/Venta.csv')\n",
    "df_ventas.info()"
   ]
  },
  {
   "cell_type": "markdown",
   "metadata": {},
   "source": [
    "#### Integridad de los datos:"
   ]
  },
  {
   "cell_type": "code",
   "execution_count": 124,
   "metadata": {},
   "outputs": [
    {
     "name": "stdout",
     "output_type": "stream",
     "text": [
      "Porcentaje de valores nulos para la columna 'IdVenta': 0.0%\n",
      "Porcentaje de valores nulos para la columna 'Fecha': 0.0%\n",
      "Porcentaje de valores nulos para la columna 'Fecha_Entrega': 0.0%\n",
      "Porcentaje de valores nulos para la columna 'IdCanal': 0.0%\n",
      "Porcentaje de valores nulos para la columna 'IdCliente': 0.0%\n",
      "Porcentaje de valores nulos para la columna 'IdSucursal': 0.0%\n",
      "Porcentaje de valores nulos para la columna 'IdEmpleado': 0.0%\n",
      "Porcentaje de valores nulos para la columna 'IdProducto': 0.0%\n",
      "Porcentaje de valores nulos para la columna 'Precio': 1.99%\n",
      "Porcentaje de valores nulos para la columna 'Cantidad': 1.91%\n"
     ]
    }
   ],
   "source": [
    "for columna in df_ventas.columns:\n",
    "    print(porcentaje_de_valores_nulos(df_ventas,columna))"
   ]
  },
  {
   "cell_type": "markdown",
   "metadata": {},
   "source": [
    "#### Calidad de los datos de la columna 'Precio':"
   ]
  },
  {
   "cell_type": "code",
   "execution_count": 114,
   "metadata": {},
   "outputs": [
    {
     "name": "stderr",
     "output_type": "stream",
     "text": [
      "C:\\Users\\Daniel Casvill\\AppData\\Local\\Temp\\ipykernel_1512\\1251029243.py:20: SettingWithCopyWarning: \n",
      "A value is trying to be set on a copy of a slice from a DataFrame\n",
      "\n",
      "See the caveats in the documentation: https://pandas.pydata.org/pandas-docs/stable/user_guide/indexing.html#returning-a-view-versus-a-copy\n",
      "  df['outlier'][(df[columna] > maximo) | (df[columna] < minimo)] = 0\n"
     ]
    },
    {
     "data": {
      "image/png": "[encoded data removed]",
      "text/plain": [
       "<Figure size 432x288 with 1 Axes>"
      ]
     },
     "metadata": {
      "needs_background": "light"
     },
     "output_type": "display_data"
    }
   ],
   "source": [
    "determinar_calidad(df_ventas,'Precio')"
   ]
  },
  {
   "cell_type": "markdown",
   "metadata": {},
   "source": [
    "#### Calidad de los datos de la columna 'Cantidad':"
   ]
  },
  {
   "cell_type": "code",
   "execution_count": 115,
   "metadata": {},
   "outputs": [
    {
     "name": "stderr",
     "output_type": "stream",
     "text": [
      "C:\\Users\\Daniel Casvill\\AppData\\Local\\Temp\\ipykernel_1512\\1251029243.py:20: SettingWithCopyWarning: \n",
      "A value is trying to be set on a copy of a slice from a DataFrame\n",
      "\n",
      "See the caveats in the documentation: https://pandas.pydata.org/pandas-docs/stable/user_guide/indexing.html#returning-a-view-versus-a-copy\n",
      "  df['outlier'][(df[columna] > maximo) | (df[columna] < minimo)] = 0\n"
     ]
    },
    {
     "data": {
      "image/png": "[encoded data removed]",
      "text/plain": [
       "<Figure size 432x288 with 1 Axes>"
      ]
     },
     "metadata": {
      "needs_background": "light"
     },
     "output_type": "display_data"
    }
   ],
   "source": [
    "determinar_calidad(df_ventas,'Cantidad')"
   ]
  },
  {
   "cell_type": "markdown",
   "metadata": {},
   "source": [
    "## **Tabla:** Compra\n",
    "| | Columna Original | Columna Normalizada | Tipo de Dato Original | Descripción |\n",
    "|:-------------------:|---|---|---|---|\n",
    "| 0 | IdCompra | IdCompra | int64 | Clave única que identifica una compra |\n",
    "| 1 | Fecha | Fecha | Object | Fecha registrada de compra |\n",
    "| 2 | Fecha_Año | *Columna eliminada* | int64 | Año registrado de compra |\n",
    "| 3 | Fecha_Mes | *Columna eliminada* | int64 | Mes registrado de compra |\n",
    "| 4 | Fecha_Periodo | *Columna eliminada* | int64 | Periodo registrado de compra  |\n",
    "| 5 | IdProducto | IdProducto | int64 | Clave única que identifica al producto adquirido |\n",
    "| 6 | Cantidad | Cantidad | int64 | Cantidad de producto adquirido en la compra |\n",
    "| 7 | Precio | Precio | float64 | Precio unitario del producto comprado |\n",
    "| 8 | IdProveedor | IdProveedor | int64 | Clave única que identifica al proveedor |"
   ]
  },
  {
   "cell_type": "code",
   "execution_count": 130,
   "metadata": {},
   "outputs": [
    {
     "name": "stdout",
     "output_type": "stream",
     "text": [
      "<class 'pandas.core.frame.DataFrame'>\n",
      "RangeIndex: 11539 entries, 0 to 11538\n",
      "Data columns (total 9 columns):\n",
      " #   Column         Non-Null Count  Dtype  \n",
      "---  ------         --------------  -----  \n",
      " 0   IdCompra       11539 non-null  int64  \n",
      " 1   Fecha          11539 non-null  object \n",
      " 2   Fecha_Año      11539 non-null  int64  \n",
      " 3   Fecha_Mes      11539 non-null  int64  \n",
      " 4   Fecha_Periodo  11539 non-null  int64  \n",
      " 5   IdProducto     11539 non-null  int64  \n",
      " 6   Cantidad       11539 non-null  int64  \n",
      " 7   Precio         11172 non-null  float64\n",
      " 8   IdProveedor    11539 non-null  int64  \n",
      "dtypes: float64(1), int64(7), object(1)\n",
      "memory usage: 811.5+ KB\n"
     ]
    }
   ],
   "source": [
    "df_compras = pd.read_csv('Datasets/Compra.csv')\n",
    "df_compras.info()"
   ]
  },
  {
   "cell_type": "markdown",
   "metadata": {},
   "source": [
    "#### Integridad de los datos:"
   ]
  },
  {
   "cell_type": "code",
   "execution_count": 131,
   "metadata": {},
   "outputs": [
    {
     "name": "stdout",
     "output_type": "stream",
     "text": [
      "Porcentaje de valores nulos para la columna 'IdCompra': 0.0%\n",
      "Porcentaje de valores nulos para la columna 'Fecha': 0.0%\n",
      "Porcentaje de valores nulos para la columna 'Fecha_Año': 0.0%\n",
      "Porcentaje de valores nulos para la columna 'Fecha_Mes': 0.0%\n",
      "Porcentaje de valores nulos para la columna 'Fecha_Periodo': 0.0%\n",
      "Porcentaje de valores nulos para la columna 'IdProducto': 0.0%\n",
      "Porcentaje de valores nulos para la columna 'Cantidad': 0.0%\n",
      "Porcentaje de valores nulos para la columna 'Precio': 3.18%\n",
      "Porcentaje de valores nulos para la columna 'IdProveedor': 0.0%\n"
     ]
    }
   ],
   "source": [
    "for columna in df_compras.columns:\n",
    "    print(porcentaje_de_valores_nulos(df_compras,columna))"
   ]
  },
  {
   "cell_type": "markdown",
   "metadata": {},
   "source": [
    "#### Calidad de los datos de la columna 'Precio':"
   ]
  },
  {
   "cell_type": "code",
   "execution_count": 132,
   "metadata": {},
   "outputs": [
    {
     "name": "stderr",
     "output_type": "stream",
     "text": [
      "C:\\Users\\Daniel Casvill\\AppData\\Local\\Temp\\ipykernel_1512\\1251029243.py:20: SettingWithCopyWarning: \n",
      "A value is trying to be set on a copy of a slice from a DataFrame\n",
      "\n",
      "See the caveats in the documentation: https://pandas.pydata.org/pandas-docs/stable/user_guide/indexing.html#returning-a-view-versus-a-copy\n",
      "  df['outlier'][(df[columna] > maximo) | (df[columna] < minimo)] = 0\n"
     ]
    },
    {
     "data": {
      "image/png": "[encoded data removed]",
      "text/plain": [
       "<Figure size 432x288 with 1 Axes>"
      ]
     },
     "metadata": {
      "needs_background": "light"
     },
     "output_type": "display_data"
    }
   ],
   "source": [
    "determinar_calidad(df_compras,'Precio')"
   ]
  },
  {
   "cell_type": "markdown",
   "metadata": {},
   "source": [
    "#### Calidad de los datos de la columna 'Cantidad':"
   ]
  },
  {
   "cell_type": "code",
   "execution_count": 133,
   "metadata": {},
   "outputs": [
    {
     "name": "stderr",
     "output_type": "stream",
     "text": [
      "C:\\Users\\Daniel Casvill\\AppData\\Local\\Temp\\ipykernel_1512\\1251029243.py:20: SettingWithCopyWarning: \n",
      "A value is trying to be set on a copy of a slice from a DataFrame\n",
      "\n",
      "See the caveats in the documentation: https://pandas.pydata.org/pandas-docs/stable/user_guide/indexing.html#returning-a-view-versus-a-copy\n",
      "  df['outlier'][(df[columna] > maximo) | (df[columna] < minimo)] = 0\n"
     ]
    },
    {
     "data": {
      "image/png": "[encoded data removed]",
      "text/plain": [
       "<Figure size 432x288 with 1 Axes>"
      ]
     },
     "metadata": {
      "needs_background": "light"
     },
     "output_type": "display_data"
    }
   ],
   "source": [
    "determinar_calidad(df_compras,'Cantidad')"
   ]
  },
  {
   "cell_type": "markdown",
   "metadata": {},
   "source": [
    "## **Tabla:** Gasto\n",
    "| | Columna Original | Columna Normalizada | Tipo de Dato Original | Descripción |\n",
    "|:-------------------:|---|---|---|---|\n",
    "| 0 | IdGasto | IdGasto | int64 | Clave única que identifica el gasto |\n",
    "| 1 | IdSucursal | IdSucursal | int64 | Clave única que identifica la sucursal |\n",
    "| 2 | IdTipoGasto | IdTipoGasto | int64 | Clave única que identifica el tipo de gasto |\n",
    "| 3 | Fecha | Fecha | Object | Fecha registrada del gasto |\n",
    "| 4 | Monto | Monto | float64 | Monto total del gasto |"
   ]
  },
  {
   "cell_type": "code",
   "execution_count": 134,
   "metadata": {},
   "outputs": [
    {
     "name": "stdout",
     "output_type": "stream",
     "text": [
      "<class 'pandas.core.frame.DataFrame'>\n",
      "RangeIndex: 8640 entries, 0 to 8639\n",
      "Data columns (total 5 columns):\n",
      " #   Column       Non-Null Count  Dtype  \n",
      "---  ------       --------------  -----  \n",
      " 0   IdGasto      8640 non-null   int64  \n",
      " 1   IdSucursal   8640 non-null   int64  \n",
      " 2   IdTipoGasto  8640 non-null   int64  \n",
      " 3   Fecha        8640 non-null   object \n",
      " 4   Monto        8640 non-null   float64\n",
      "dtypes: float64(1), int64(3), object(1)\n",
      "memory usage: 337.6+ KB\n"
     ]
    }
   ],
   "source": [
    "df_gastos = pd.read_csv('Datasets/Gasto.csv')\n",
    "df_gastos.info()"
   ]
  },
  {
   "cell_type": "markdown",
   "metadata": {},
   "source": [
    "#### Integridad de los datos:"
   ]
  },
  {
   "cell_type": "code",
   "execution_count": 135,
   "metadata": {},
   "outputs": [
    {
     "name": "stdout",
     "output_type": "stream",
     "text": [
      "Porcentaje de valores nulos para la columna 'IdGasto': 0.0%\n",
      "Porcentaje de valores nulos para la columna 'IdSucursal': 0.0%\n",
      "Porcentaje de valores nulos para la columna 'IdTipoGasto': 0.0%\n",
      "Porcentaje de valores nulos para la columna 'Fecha': 0.0%\n",
      "Porcentaje de valores nulos para la columna 'Monto': 0.0%\n"
     ]
    }
   ],
   "source": [
    "for columna in df_gastos.columns:\n",
    "    print(porcentaje_de_valores_nulos(df_gastos,columna))"
   ]
  },
  {
   "cell_type": "markdown",
   "metadata": {},
   "source": [
    "#### Calidad de los datos de la columna 'Monto':"
   ]
  },
  {
   "cell_type": "code",
   "execution_count": 136,
   "metadata": {},
   "outputs": [
    {
     "name": "stderr",
     "output_type": "stream",
     "text": [
      "C:\\Users\\Daniel Casvill\\AppData\\Local\\Temp\\ipykernel_1512\\1251029243.py:20: SettingWithCopyWarning: \n",
      "A value is trying to be set on a copy of a slice from a DataFrame\n",
      "\n",
      "See the caveats in the documentation: https://pandas.pydata.org/pandas-docs/stable/user_guide/indexing.html#returning-a-view-versus-a-copy\n",
      "  df['outlier'][(df[columna] > maximo) | (df[columna] < minimo)] = 0\n"
     ]
    },
    {
     "data": {
      "image/png": "[encoded data removed]",
      "text/plain": [
       "<Figure size 432x288 with 1 Axes>"
      ]
     },
     "metadata": {
      "needs_background": "light"
     },
     "output_type": "display_data"
    }
   ],
   "source": [
    "determinar_calidad(df_gastos,'Monto')"
   ]
  }
 ],
 "metadata": {
  "kernelspec": {
   "display_name": "Python 3.10.3 64-bit",
   "language": "python",
   "name": "python3"
  },
  "language_info": {
   "codemirror_mode": {
    "name": "ipython",
    "version": 3
   },
   "file_extension": ".py",
   "mimetype": "text/x-python",
   "name": "python",
   "nbconvert_exporter": "python",
   "pygments_lexer": "ipython3",
   "version": "3.10.3"
  },
  "orig_nbformat": 4,
  "vscode": {
   "interpreter": {
    "hash": "369f2c481f4da34e4445cda3fffd2e751bd1c4d706f27375911949ba6bb62e1c"
   }
  }
 },
 "nbformat": 4,
 "nbformat_minor": 2
}
